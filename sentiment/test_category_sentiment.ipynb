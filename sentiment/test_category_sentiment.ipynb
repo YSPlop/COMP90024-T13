{
 "cells": [
  {
   "cell_type": "code",
   "execution_count": 1,
   "id": "2a499fd3",
   "metadata": {},
   "outputs": [
    {
     "name": "stdout",
     "output_type": "stream",
     "text": [
      "Total: 715\n",
      "Aggressive Tweets: 7 (0.98%)\n",
      "Non-Aggressive Tweets: 708 (99.02%)\n",
      "Missing Tweets: 0 (0.0%)\n"
     ]
    },
    {
     "name": "stderr",
     "output_type": "stream",
     "text": [
      "[nltk_data] Downloading package vader_lexicon to\n",
      "[nltk_data]     /Users/wangyiqiao/nltk_data...\n",
      "[nltk_data]   Package vader_lexicon is already up-to-date!\n"
     ]
    }
   ],
   "source": [
    "import ijson, sys\n",
    "from sentiment import *\n",
    "\n",
    "# initializes variables\n",
    "sentiment = Sentiment() # creates the sentiment analysing object\n",
    "twitter_file = \"tinyTwitter.json\" # define target twitter file, using sys.argv[i] instead to receive from input\n",
    "category = [] # creates empty list to store category code of each tweets\n",
    "\n",
    "# traverses the target twitter json file\n",
    "with open(twitter_file, 'rb') as f:\n",
    "    twitter_obj = ijson.items(f, 'item')\n",
    "    for item in twitter_obj:\n",
    "        text = item['data']['text']\n",
    "        category.append(sentiment.category(text))\n",
    "\n",
    "# prints result\n",
    "total = len(category)\n",
    "aggressive = category.count(1)\n",
    "non_aggressive = category.count(0)\n",
    "text_missing = category.count(None)\n",
    "\n",
    "print(f\"Total: {total}\")\n",
    "print(f\"Aggressive Tweets: {aggressive} ({round(aggressive/total*100, 2)}%)\")\n",
    "print(f\"Non-Aggressive Tweets: {non_aggressive} ({round(non_aggressive/total*100, 2)}%)\")\n",
    "print(f\"Missing Tweets: {text_missing} ({round(text_missing/total*100, 2)}%)\")"
   ]
  },
  {
   "cell_type": "code",
   "execution_count": null,
   "id": "edfff596",
   "metadata": {},
   "outputs": [],
   "source": []
  }
 ],
 "metadata": {
  "kernelspec": {
   "display_name": "Python 3",
   "language": "python",
   "name": "python3"
  },
  "language_info": {
   "codemirror_mode": {
    "name": "ipython",
    "version": 3
   },
   "file_extension": ".py",
   "mimetype": "text/x-python",
   "name": "python",
   "nbconvert_exporter": "python",
   "pygments_lexer": "ipython3",
   "version": "3.8.8"
  }
 },
 "nbformat": 4,
 "nbformat_minor": 5
}
