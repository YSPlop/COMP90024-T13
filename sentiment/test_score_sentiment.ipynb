{
 "cells": [
  {
   "cell_type": "code",
   "execution_count": 1,
   "id": "741c0a93",
   "metadata": {},
   "outputs": [
    {
     "name": "stderr",
     "output_type": "stream",
     "text": [
      "[nltk_data] Downloading package vader_lexicon to\n",
      "[nltk_data]     /Users/wangyiqiao/nltk_data...\n",
      "[nltk_data]   Package vader_lexicon is already up-to-date!\n"
     ]
    },
    {
     "name": "stdout",
     "output_type": "stream",
     "text": [
      "*There are 0 tweets out of 715 tweets in total.\n"
     ]
    },
    {
     "data": {
      "image/png": "[encoded data removed]",
      "text/plain": [
       "<Figure size 432x288 with 1 Axes>"
      ]
     },
     "metadata": {
      "needs_background": "light"
     },
     "output_type": "display_data"
    }
   ],
   "source": [
    "import ijson, sys\n",
    "import numpy as np\n",
    "import matplotlib.pyplot as plt\n",
    "\n",
    "from sentiment import *\n",
    "\n",
    "# initializes variables\n",
    "sentiment = Sentiment() # creates the sentiment analysing object\n",
    "twitter_file = \"tinyTwitter.json\" # define target twitter file, using sys.argv[i] instead to receive from input\n",
    "score = [] # creates empty list to store sentiment-negative score of each tweets\n",
    "\n",
    "# traverses the target twitter json file\n",
    "with open(twitter_file, 'rb') as f:\n",
    "    twitter_obj = ijson.items(f, 'item')\n",
    "    for item in twitter_obj:\n",
    "        text = item['data']['text']\n",
    "        score.append(sentiment.score(text))\n",
    "\n",
    "# visualise the sentiment-negative score distribution\n",
    "total = len(score)\n",
    "text_missing = score.count(None)\n",
    "\n",
    "print(f\"*There are {text_missing} tweets out of {total} tweets in total.\")\n",
    "\n",
    "plt.hist(np.array(score), bins = 10)\n",
    "plt.title(\"Histogram of Sentiment-Negative Score\")\n",
    "plt.xlabel(\"Sentiment-Negative Score\")\n",
    "plt.ylabel(\"Frequency\")\n",
    "plt.grid(\"off\")\n",
    "plt.show()"
   ]
  },
  {
   "cell_type": "code",
   "execution_count": null,
   "id": "182b1b38",
   "metadata": {},
   "outputs": [],
   "source": []
  }
 ],
 "metadata": {
  "kernelspec": {
   "display_name": "Python 3",
   "language": "python",
   "name": "python3"
  },
  "language_info": {
   "codemirror_mode": {
    "name": "ipython",
    "version": 3
   },
   "file_extension": ".py",
   "mimetype": "text/x-python",
   "name": "python",
   "nbconvert_exporter": "python",
   "pygments_lexer": "ipython3",
   "version": "3.8.8"
  }
 },
 "nbformat": 4,
 "nbformat_minor": 5
}
