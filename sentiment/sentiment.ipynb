{
 "cells": [
  {
   "cell_type": "code",
   "execution_count": 1,
   "id": "65905ad0",
   "metadata": {},
   "outputs": [],
   "source": [
    "import nltk\n",
    "from nltk.sentiment.vader import SentimentIntensityAnalyzer\n",
    "\n",
    "class Sentiment:\n",
    "    def __init__(self):\n",
    "        nltk.download('vader_lexicon')\n",
    "        self.sid = SentimentIntensityAnalyzer()\n",
    "    \n",
    "    def score(self, text):\n",
    "        if (text is None) or (text == \"\"):\n",
    "            return None\n",
    "        return self.sid.polarity_scores(text)['neg']\n",
    "    \n",
    "    def category(self, text):\n",
    "        if (text is None) or (text == \"\"):\n",
    "            return None\n",
    "        score = self.sid.polarity_scores(text)['neg']\n",
    "        if score > 0.5:\n",
    "            return 1\n",
    "        else:\n",
    "            return 0"
   ]
  }
 ],
 "metadata": {
  "kernelspec": {
   "display_name": "Python 3",
   "language": "python",
   "name": "python3"
  },
  "language_info": {
   "codemirror_mode": {
    "name": "ipython",
    "version": 3
   },
   "file_extension": ".py",
   "mimetype": "text/x-python",
   "name": "python",
   "nbconvert_exporter": "python",
   "pygments_lexer": "ipython3",
   "version": "3.8.8"
  }
 },
 "nbformat": 4,
 "nbformat_minor": 5
}
